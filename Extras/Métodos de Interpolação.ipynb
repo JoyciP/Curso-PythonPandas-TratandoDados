{
 "cells": [
  {
   "cell_type": "code",
   "execution_count": 1,
   "id": "2f29a984",
   "metadata": {},
   "outputs": [],
   "source": [
    "import pandas as pd"
   ]
  },
  {
   "cell_type": "code",
   "execution_count": 2,
   "id": "3ae77b76",
   "metadata": {},
   "outputs": [],
   "source": [
    "data = [0.5, None, None, 0.52, None, None, 0.59, 0.6, None, 0.7 ]\n",
    "s = pd.Series(data)"
   ]
  },
  {
   "cell_type": "code",
   "execution_count": 3,
   "id": "b2178882",
   "metadata": {},
   "outputs": [
    {
     "data": {
      "text/plain": [
       "0    0.50\n",
       "1     NaN\n",
       "2     NaN\n",
       "3    0.52\n",
       "4     NaN\n",
       "5     NaN\n",
       "6    0.59\n",
       "7    0.60\n",
       "8     NaN\n",
       "9    0.70\n",
       "dtype: float64"
      ]
     },
     "execution_count": 3,
     "metadata": {},
     "output_type": "execute_result"
    }
   ],
   "source": [
    "s"
   ]
  },
  {
   "cell_type": "code",
   "execution_count": 6,
   "id": "fa178ba9",
   "metadata": {},
   "outputs": [
    {
     "data": {
      "text/plain": [
       "0    0.50\n",
       "1    0.00\n",
       "2    0.00\n",
       "3    0.52\n",
       "4    0.00\n",
       "5    0.00\n",
       "6    0.59\n",
       "7    0.60\n",
       "8    0.00\n",
       "9    0.70\n",
       "dtype: float64"
      ]
     },
     "execution_count": 6,
     "metadata": {},
     "output_type": "execute_result"
    }
   ],
   "source": [
    "s.fillna(0)"
   ]
  },
  {
   "cell_type": "code",
   "execution_count": 7,
   "id": "4bba2d8a",
   "metadata": {},
   "outputs": [
    {
     "data": {
      "text/plain": [
       "0    0.50\n",
       "1     NaN\n",
       "2     NaN\n",
       "3    0.52\n",
       "4     NaN\n",
       "5     NaN\n",
       "6    0.59\n",
       "7    0.60\n",
       "8     NaN\n",
       "9    0.70\n",
       "dtype: float64"
      ]
     },
     "execution_count": 7,
     "metadata": {},
     "output_type": "execute_result"
    }
   ],
   "source": [
    "s"
   ]
  },
  {
   "cell_type": "code",
   "execution_count": 11,
   "id": "20259836",
   "metadata": {},
   "outputs": [
    {
     "data": {
      "text/plain": [
       "0    0.50\n",
       "1    0.50\n",
       "2    0.50\n",
       "3    0.52\n",
       "4    0.52\n",
       "5    0.52\n",
       "6    0.59\n",
       "7    0.60\n",
       "8    0.60\n",
       "9    0.70\n",
       "dtype: float64"
      ]
     },
     "execution_count": 11,
     "metadata": {},
     "output_type": "execute_result"
    }
   ],
   "source": [
    "##Quando não tem o dado, o NaN utiliza o dado acima.\n",
    "s.fillna(method = 'ffill')"
   ]
  },
  {
   "cell_type": "code",
   "execution_count": 9,
   "id": "6e309db4",
   "metadata": {},
   "outputs": [
    {
     "data": {
      "text/plain": [
       "0    0.50\n",
       "1     NaN\n",
       "2     NaN\n",
       "3    0.52\n",
       "4     NaN\n",
       "5     NaN\n",
       "6    0.59\n",
       "7    0.60\n",
       "8     NaN\n",
       "9    0.70\n",
       "dtype: float64"
      ]
     },
     "execution_count": 9,
     "metadata": {},
     "output_type": "execute_result"
    }
   ],
   "source": [
    "s"
   ]
  },
  {
   "cell_type": "code",
   "execution_count": 10,
   "id": "838fece4",
   "metadata": {},
   "outputs": [
    {
     "data": {
      "text/plain": [
       "0    0.50\n",
       "1    0.52\n",
       "2    0.52\n",
       "3    0.52\n",
       "4    0.59\n",
       "5    0.59\n",
       "6    0.59\n",
       "7    0.60\n",
       "8    0.70\n",
       "9    0.70\n",
       "dtype: float64"
      ]
     },
     "execution_count": 10,
     "metadata": {},
     "output_type": "execute_result"
    }
   ],
   "source": [
    "##Quando é Nan ele se apropria do dado abaixo.\n",
    "s.fillna(method = 'bfill')"
   ]
  },
  {
   "cell_type": "code",
   "execution_count": 12,
   "id": "30931200",
   "metadata": {},
   "outputs": [
    {
     "data": {
      "text/plain": [
       "0    0.50\n",
       "1     NaN\n",
       "2     NaN\n",
       "3    0.52\n",
       "4     NaN\n",
       "5     NaN\n",
       "6    0.59\n",
       "7    0.60\n",
       "8     NaN\n",
       "9    0.70\n",
       "dtype: float64"
      ]
     },
     "execution_count": 12,
     "metadata": {},
     "output_type": "execute_result"
    }
   ],
   "source": [
    "s"
   ]
  },
  {
   "cell_type": "code",
   "execution_count": 15,
   "id": "b93b398b",
   "metadata": {},
   "outputs": [
    {
     "data": {
      "text/plain": [
       "0    0.500\n",
       "1    0.582\n",
       "2    0.582\n",
       "3    0.520\n",
       "4    0.582\n",
       "5    0.582\n",
       "6    0.590\n",
       "7    0.600\n",
       "8    0.582\n",
       "9    0.700\n",
       "dtype: float64"
      ]
     },
     "execution_count": 15,
     "metadata": {},
     "output_type": "execute_result"
    }
   ],
   "source": [
    "##Uso das médias dos pontos que nao sao nulo, para preenchimento.\n",
    "s.fillna(s.mean())"
   ]
  },
  {
   "cell_type": "code",
   "execution_count": 16,
   "id": "326c58d6",
   "metadata": {},
   "outputs": [
    {
     "data": {
      "text/plain": [
       "0    0.50\n",
       "1     NaN\n",
       "2     NaN\n",
       "3    0.52\n",
       "4     NaN\n",
       "5     NaN\n",
       "6    0.59\n",
       "7    0.60\n",
       "8     NaN\n",
       "9    0.70\n",
       "dtype: float64"
      ]
     },
     "execution_count": 16,
     "metadata": {},
     "output_type": "execute_result"
    }
   ],
   "source": [
    "s"
   ]
  },
  {
   "cell_type": "code",
   "execution_count": 20,
   "id": "259c9ce7",
   "metadata": {},
   "outputs": [],
   "source": [
    "s1 = s.fillna(method = 'ffill', limit = 1)"
   ]
  },
  {
   "cell_type": "code",
   "execution_count": 21,
   "id": "e290bafd",
   "metadata": {},
   "outputs": [
    {
     "data": {
      "text/plain": [
       "0    0.50\n",
       "1    0.50\n",
       "2     NaN\n",
       "3    0.52\n",
       "4    0.52\n",
       "5     NaN\n",
       "6    0.59\n",
       "7    0.60\n",
       "8    0.60\n",
       "9    0.70\n",
       "dtype: float64"
      ]
     },
     "execution_count": 21,
     "metadata": {},
     "output_type": "execute_result"
    }
   ],
   "source": [
    "s1"
   ]
  },
  {
   "cell_type": "code",
   "execution_count": 22,
   "id": "e15436db",
   "metadata": {},
   "outputs": [],
   "source": [
    "s1 = s.fillna(method = 'bfill', limit = 1)"
   ]
  },
  {
   "cell_type": "code",
   "execution_count": 23,
   "id": "209446ba",
   "metadata": {},
   "outputs": [
    {
     "data": {
      "text/plain": [
       "0    0.50\n",
       "1     NaN\n",
       "2    0.52\n",
       "3    0.52\n",
       "4     NaN\n",
       "5    0.59\n",
       "6    0.59\n",
       "7    0.60\n",
       "8    0.70\n",
       "9    0.70\n",
       "dtype: float64"
      ]
     },
     "execution_count": 23,
     "metadata": {},
     "output_type": "execute_result"
    }
   ],
   "source": [
    "s1"
   ]
  },
  {
   "cell_type": "code",
   "execution_count": null,
   "id": "3b5ce0e2",
   "metadata": {},
   "outputs": [],
   "source": []
  }
 ],
 "metadata": {
  "kernelspec": {
   "display_name": "Python 3 (ipykernel)",
   "language": "python",
   "name": "python3"
  },
  "language_info": {
   "codemirror_mode": {
    "name": "ipython",
    "version": 3
   },
   "file_extension": ".py",
   "mimetype": "text/x-python",
   "name": "python",
   "nbconvert_exporter": "python",
   "pygments_lexer": "ipython3",
   "version": "3.9.7"
  }
 },
 "nbformat": 4,
 "nbformat_minor": 5
}
