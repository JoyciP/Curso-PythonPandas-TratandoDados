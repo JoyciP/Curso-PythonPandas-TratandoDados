{
 "cells": [
  {
   "cell_type": "markdown",
   "id": "243e189a",
   "metadata": {},
   "source": [
    "# Informações de um DataFrame"
   ]
  },
  {
   "cell_type": "code",
   "execution_count": 1,
   "id": "08796cdd",
   "metadata": {},
   "outputs": [
    {
     "data": {
      "text/html": [
       "<div>\n",
       "<style scoped>\n",
       "    .dataframe tbody tr th:only-of-type {\n",
       "        vertical-align: middle;\n",
       "    }\n",
       "\n",
       "    .dataframe tbody tr th {\n",
       "        vertical-align: top;\n",
       "    }\n",
       "\n",
       "    .dataframe thead th {\n",
       "        text-align: right;\n",
       "    }\n",
       "</style>\n",
       "<table border=\"1\" class=\"dataframe\">\n",
       "  <thead>\n",
       "    <tr style=\"text-align: right;\">\n",
       "      <th></th>\n",
       "      <th>Aluno</th>\n",
       "      <th>Idade</th>\n",
       "      <th>Nota</th>\n",
       "      <th>Aprovado</th>\n",
       "    </tr>\n",
       "  </thead>\n",
       "  <tbody>\n",
       "    <tr>\n",
       "      <th>0</th>\n",
       "      <td>Fulano</td>\n",
       "      <td>12</td>\n",
       "      <td>7.0</td>\n",
       "      <td>True</td>\n",
       "    </tr>\n",
       "    <tr>\n",
       "      <th>1</th>\n",
       "      <td>Sicrano</td>\n",
       "      <td>15</td>\n",
       "      <td>3.5</td>\n",
       "      <td>False</td>\n",
       "    </tr>\n",
       "    <tr>\n",
       "      <th>2</th>\n",
       "      <td>Beltrano</td>\n",
       "      <td>18</td>\n",
       "      <td>9.3</td>\n",
       "      <td>True</td>\n",
       "    </tr>\n",
       "  </tbody>\n",
       "</table>\n",
       "</div>"
      ],
      "text/plain": [
       "      Aluno  Idade  Nota  Aprovado\n",
       "0    Fulano     12   7.0      True\n",
       "1   Sicrano     15   3.5     False\n",
       "2  Beltrano     18   9.3      True"
      ]
     },
     "execution_count": 1,
     "metadata": {},
     "output_type": "execute_result"
    }
   ],
   "source": [
    "import pandas as pd\n",
    "data = [['Fulano', 12, 7.0, True],\n",
    "        ['Sicrano', 15, 3.5, False], \n",
    "        ['Beltrano', 18, 9.3, True]]\n",
    "dados = pd.DataFrame(data, \n",
    "        columns = ['Aluno', 'Idade', 'Nota', 'Aprovado'])\n",
    "dados"
   ]
  },
  {
   "cell_type": "code",
   "execution_count": 2,
   "id": "f75bbf1f",
   "metadata": {},
   "outputs": [
    {
     "data": {
      "text/plain": [
       "Aluno        object\n",
       "Idade         int64\n",
       "Nota        float64\n",
       "Aprovado       bool\n",
       "dtype: object"
      ]
     },
     "execution_count": 2,
     "metadata": {},
     "output_type": "execute_result"
    }
   ],
   "source": [
    "dados.dtypes"
   ]
  },
  {
   "cell_type": "code",
   "execution_count": 3,
   "id": "50e7f9b4",
   "metadata": {},
   "outputs": [],
   "source": [
    "tipos_de_dados = pd.DataFrame(dados.dtypes, columns = ['Tipo de Dados'])"
   ]
  },
  {
   "cell_type": "code",
   "execution_count": 4,
   "id": "f7c37cbd",
   "metadata": {},
   "outputs": [],
   "source": [
    "tipos_de_dados.columns.name = 'Variáveis'"
   ]
  },
  {
   "cell_type": "code",
   "execution_count": 5,
   "id": "61e9d182",
   "metadata": {},
   "outputs": [
    {
     "data": {
      "text/html": [
       "<div>\n",
       "<style scoped>\n",
       "    .dataframe tbody tr th:only-of-type {\n",
       "        vertical-align: middle;\n",
       "    }\n",
       "\n",
       "    .dataframe tbody tr th {\n",
       "        vertical-align: top;\n",
       "    }\n",
       "\n",
       "    .dataframe thead th {\n",
       "        text-align: right;\n",
       "    }\n",
       "</style>\n",
       "<table border=\"1\" class=\"dataframe\">\n",
       "  <thead>\n",
       "    <tr style=\"text-align: right;\">\n",
       "      <th>Variáveis</th>\n",
       "      <th>Tipo de Dados</th>\n",
       "    </tr>\n",
       "  </thead>\n",
       "  <tbody>\n",
       "    <tr>\n",
       "      <th>Aluno</th>\n",
       "      <td>object</td>\n",
       "    </tr>\n",
       "    <tr>\n",
       "      <th>Idade</th>\n",
       "      <td>int64</td>\n",
       "    </tr>\n",
       "    <tr>\n",
       "      <th>Nota</th>\n",
       "      <td>float64</td>\n",
       "    </tr>\n",
       "    <tr>\n",
       "      <th>Aprovado</th>\n",
       "      <td>bool</td>\n",
       "    </tr>\n",
       "  </tbody>\n",
       "</table>\n",
       "</div>"
      ],
      "text/plain": [
       "Variáveis Tipo de Dados\n",
       "Aluno            object\n",
       "Idade             int64\n",
       "Nota            float64\n",
       "Aprovado           bool"
      ]
     },
     "execution_count": 5,
     "metadata": {},
     "output_type": "execute_result"
    }
   ],
   "source": [
    "tipos_de_dados"
   ]
  },
  {
   "cell_type": "code",
   "execution_count": null,
   "id": "a4f95c5a",
   "metadata": {},
   "outputs": [],
   "source": []
  }
 ],
 "metadata": {
  "kernelspec": {
   "display_name": "Python 3 (ipykernel)",
   "language": "python",
   "name": "python3"
  },
  "language_info": {
   "codemirror_mode": {
    "name": "ipython",
    "version": 3
   },
   "file_extension": ".py",
   "mimetype": "text/x-python",
   "name": "python",
   "nbconvert_exporter": "python",
   "pygments_lexer": "ipython3",
   "version": "3.9.7"
  }
 },
 "nbformat": 4,
 "nbformat_minor": 5
}
